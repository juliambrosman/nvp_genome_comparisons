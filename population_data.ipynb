{
 "cells": [
  {
   "cell_type": "code",
   "execution_count": 1,
   "metadata": {
    "collapsed": true
   },
   "outputs": [],
   "source": [
    "%load_ext rpy2.ipython"
   ]
  },
  {
   "cell_type": "code",
   "execution_count": 49,
   "metadata": {
    "collapsed": true
   },
   "outputs": [],
   "source": [
    "import os\n",
    "os.mkdir(\"./data\")"
   ]
  },
  {
   "cell_type": "code",
   "execution_count": 2,
   "metadata": {
    "collapsed": false
   },
   "outputs": [
    {
     "name": "stderr",
     "output_type": "stream",
     "text": [
      "//anaconda/lib/python2.7/site-packages/rpy2/robjects/functions.py:106: UserWarning: \n",
      "Attaching package: ‘dplyr’\n",
      "\n",
      "\n",
      "  res = super(Function, self).__call__(*new_args, **new_kwargs)\n",
      "//anaconda/lib/python2.7/site-packages/rpy2/robjects/functions.py:106: UserWarning: The following objects are masked from ‘package:stats’:\n",
      "\n",
      "    filter, lag\n",
      "\n",
      "\n",
      "  res = super(Function, self).__call__(*new_args, **new_kwargs)\n",
      "//anaconda/lib/python2.7/site-packages/rpy2/robjects/functions.py:106: UserWarning: The following objects are masked from ‘package:base’:\n",
      "\n",
      "    intersect, setdiff, setequal, union\n",
      "\n",
      "\n",
      "  res = super(Function, self).__call__(*new_args, **new_kwargs)\n"
     ]
    }
   ],
   "source": [
    "%%R\n",
    "library(dplyr)\n",
    "library(ggplot2)\n",
    "library(magrittr)"
   ]
  },
  {
   "cell_type": "code",
   "execution_count": 13,
   "metadata": {
    "collapsed": false
   },
   "outputs": [],
   "source": [
    "%%R\n",
    "#genome info files:\n",
    "\n",
    "#kk preliminary groups\n",
    "kk_phage_grps<-\"/Users/jmb/Desktop/ViralFate/PhageGenomeAssembly/phage_by_group.txt\"\n",
    "\n",
    "#read coverage categories determined during phage genome assembly\n",
    "read_coverage_categories<-\"/Users/jmb/Desktop/ViralFate/ImportantInfo/read_coverage_patterns.txt\"\n",
    "\n",
    "#terminase categories based on closest BLAST hit\n",
    "terminase_categories<-\"/Users/jmb/Desktop/ViralFate/Terminase/data/new_terminase_categories.txt\"\n",
    "terminase_ortho_cluster<-\"~/Desktop/ViralFate/Terminase/orthomcl/np_term_ortho_groups.txt\"\n",
    "terminase_ortho_defs<-\"/Users/jmb/Desktop/ViralFate/Terminase/orthomcl/terminase_group_desc.txt\"\n",
    "\n",
    "#phage phylogeny determined by phylogeny of majority of POG annotations or else best BLAST match to POG\n",
    "pog_phylogeny<-\"/Users/jmb/Desktop/ViralFate/Annotation/nvp_pog_phy_simplified.txt\"\n",
    "\n",
    "#minimum similarity between hosts\n",
    "host_sim<-\"/Users/jmb/Desktop/ViralFate/OrthoMCL/phage_host_dist2.txt\"\n",
    "\n",
    "#nucleotide similarity: phages groups based on 50% genome similarity cutoff\n",
    "nuc_divs<-\"/Users/jmb/Desktop/ViralFate/Genome_Aln/data/nvp_nucl_comp_divs.txt\"\n",
    "\n",
    "#genome lengths\n",
    "size<-\"/Users/jmb/Desktop/ViralFate/ImportantInfo/igenome_lengths.txt\"\n",
    "\n",
    "#bc_hclust_grps\n",
    "bhc<- \"/Users/jmb/Desktop/NetworkFiles/data/new_nahantphage_clusters.txt\""
   ]
  },
  {
   "cell_type": "code",
   "execution_count": 10,
   "metadata": {
    "collapsed": false
   },
   "outputs": [
    {
     "data": {
      "text/plain": [
       "     phage        cov_category\n",
       "1 1.005.O. short_internal_peak\n",
       "2 1.015.O. short_internal_peak\n",
       "3 1.021.B. short_internal_peak\n",
       "4 1.021.C. short_internal_peak\n",
       "5 1.024.O. short_internal_peak\n",
       "6 1.026.O. short_internal_peak\n"
      ]
     },
     "metadata": {},
     "output_type": "display_data"
    }
   ],
   "source": []
  },
  {
   "cell_type": "code",
   "execution_count": 14,
   "metadata": {
    "collapsed": false
   },
   "outputs": [
    {
     "data": {
      "text/plain": [
       "[1] 238\n",
       "[1] 263\n",
       "[1] 283\n",
       "     phage  eval term_blast_ld term_blast_sd  term_clust term_ortho_sd\n",
       "1 1.003.O. 6e-63   headful/Sf6       Headful terminase16          <NA>\n",
       "2 1.004.O. 2e-57    3-cos/HK97           Cos terminase23          <NA>\n",
       "3 1.005.O. 1e-60    Cos/lambda           Cos  terminase3           Cos\n",
       "4 1.007.O. 3e-65   headful/Sf6       Headful  terminase7          <NA>\n",
       "5 1.009.O. 2e-57    Cos/lambda           Cos  terminase3           Cos\n",
       "6 1.012.O. 2e-21   headful/Sf6       Headful  terminase1          <NA>\n",
       "  term_ortho_ld            cov_category\n",
       "1          <NA>           even_coverage\n",
       "2          <NA> multiple_coverage_peaks\n",
       "3    Cos/lambda     short_internal_peak\n",
       "4          <NA> multiple_coverage_peaks\n",
       "5    Cos/lambda                    <NA>\n",
       "6          <NA>      shifts_in_coverage\n"
      ]
     },
     "metadata": {},
     "output_type": "display_data"
    }
   ],
   "source": [
    "%%R\n",
    "#consolidate terminase and coverage info:\n",
    "\n",
    "term_blast_cat<-read.table(terminase_categories, sep=\"\\t\")\n",
    "colnames(term_blast_cat)<-c(\"phage\",\"eval\",\"term_blast_ld\", \"term_blast_sd\")\n",
    "term_cluster<-read.table(terminase_ortho_cluster, sep=\"\\t\", header=TRUE)\n",
    "term_clust_cats<-read.table(terminase_ortho_defs, sep=\"\\t\", header=TRUE)\n",
    "#head(term_clust_cats)%>%print\n",
    "#head(term_cluster)%>%print\n",
    "\n",
    "term_cluster$term_ortho_sd<-term_clust_cats$short_desc[match(term_cluster$term_clust, term_clust_cats$terminase_grp)]\n",
    "term_cluster$term_ortho_ld<-term_clust_cats$long_desc[match(term_cluster$term_clust, term_clust_cats$terminase_grp)]\n",
    "nrow(term_blast_cat)%>%print\n",
    "nrow(term_cluster)%>%print\n",
    "\n",
    "read_cov<-read.table(read_coverage_categories, sep=\"\\t\", header=TRUE)\n",
    "\n",
    "terminase_info<-merge(term_blast_cat, term_cluster, by=\"phage\",all.x=TRUE, all.y=TRUE)\n",
    "\n",
    "terminase_info<-merge(terminase_info, read_cov, by=\"phage\", all.x=TRUE, all.y=TRUE)\n",
    "\n",
    "nrow(terminase_info)%>%print\n",
    "\n",
    "head(terminase_info)\n",
    "#write.table()"
   ]
  },
  {
   "cell_type": "code",
   "execution_count": 15,
   "metadata": {
    "collapsed": false
   },
   "outputs": [
    {
     "data": {
      "text/plain": [
       "     phage num_hosts min_host_similarity kk_grp        family          order\n",
       "1 1.003.O.         2            76.77842      1  Podoviridae   Caudovirales \n",
       "2 1.004.O.         5            99.62443     14   Myoviridae   Caudovirales \n",
       "3 1.005.O.         1           100.00000      7  Podoviridae   Caudovirales \n",
       "4 1.007.O.         1           100.00000      1   Myoviridae   Caudovirales \n",
       "5 1.008.O.        36            73.57059     15    Tectivirus   Tectiviridae\n",
       "6 1.009.O.         1           100.00000      7  Podoviridae   Caudovirales \n",
       "  nucleotide_level_divs illumina_genome_len\n",
       "1                     1               41891\n",
       "2                     2               42511\n",
       "3                     3               50301\n",
       "4                     4               49244\n",
       "5                     5               10579\n",
       "6                     6               44443\n"
      ]
     },
     "metadata": {},
     "output_type": "display_data"
    }
   ],
   "source": [
    "%%R\n",
    "\n",
    "phy<-read.table(pog_phylogeny, sep=\"\\t\", header=TRUE)\n",
    "#phy%>%head%>%print\n",
    "phy1<-phy[,c(1,2,4)]\n",
    "\n",
    "host_min_sim<-read.table(host_sim, sep=\"\\t\", header=TRUE)\n",
    "colnames(host_min_sim)[c(1,3)]<-c(\"phage\",\"min_host_similarity\")\n",
    "\n",
    "genome_info<-host_min_sim[,c(1,2,3,6)]\n",
    "colnames(genome_info)[4]<-\"kk_grp\"\n",
    "\n",
    "nuc_grps<-read.table(nuc_divs, sep=\"\\t\", header=TRUE)\n",
    "colnames(nuc_grps)[2]<-\"nucleotide_level_divs\"\n",
    "\n",
    "sizzes<-read.table(size, sep=\"\\t\",header=TRUE)\n",
    "\n",
    "genome_info<-merge(genome_info, phy1, by=\"phage\", all.x=T, all.y=T)\n",
    "genome_info<-merge(genome_info, nuc_grps, by=\"phage\", all.x=T, all.y=T)\n",
    "genome_info<-merge(genome_info, sizzes, by=\"phage\", all.x=T, all.y=T)\n",
    "\n",
    "head(genome_info)%>%print"
   ]
  },
  {
   "cell_type": "code",
   "execution_count": 16,
   "metadata": {
    "collapsed": false
   },
   "outputs": [
    {
     "data": {
      "text/plain": [
       "     phage bray_clusters_eps0.9 euclidean_clusters_eps15\n",
       "1 1.003.O.                    1                        1\n",
       "2 1.004.O.                    2                        2\n",
       "3 1.005.O.                    3                        3\n",
       "4 1.007.O.                    4                        4\n",
       "5 1.008.O.                    5                        5\n",
       "6 1.009.O.                    0                        6\n"
      ]
     },
     "metadata": {},
     "output_type": "display_data"
    }
   ],
   "source": [
    "%%R\n",
    "bray_clusters<-read.table(\"./data/bray_clusters_eps0.9_po1.txt\", sep=\"\\t\",header=T)\n",
    "euclidean_clusters<-read.table(\"./data/euc_clusters_eps15_po1.txt\", sep=\"\\t\",header=T)\n",
    "\n",
    "cluster_table<-merge(bray_clusters,euclidean_clusters, by=\"phage\", all.x=T, all.y=T)\n",
    "head(cluster_table)"
   ]
  },
  {
   "cell_type": "code",
   "execution_count": 17,
   "metadata": {
    "collapsed": false
   },
   "outputs": [
    {
     "data": {
      "text/plain": [
       "     phage num_hosts min_host_similarity kk_grp        family          order\n",
       "1 1.003.O.         2            76.77842      1  Podoviridae   Caudovirales \n",
       "2 1.004.O.         5            99.62443     14   Myoviridae   Caudovirales \n",
       "3 1.005.O.         1           100.00000      7  Podoviridae   Caudovirales \n",
       "4 1.007.O.         1           100.00000      1   Myoviridae   Caudovirales \n",
       "5 1.008.O.        36            73.57059     15    Tectivirus   Tectiviridae\n",
       "6 1.009.O.         1           100.00000      7  Podoviridae   Caudovirales \n",
       "  nucleotide_level_divs illumina_genome_len bray_clusters_eps0.9\n",
       "1                     1               41891                    1\n",
       "2                     2               42511                    2\n",
       "3                     3               50301                    3\n",
       "4                     4               49244                    4\n",
       "5                     5               10579                    5\n",
       "6                     6               44443                    0\n",
       "  euclidean_clusters_eps15  eval term_blast_ld term_blast_sd  term_clust\n",
       "1                        1 6e-63   headful/Sf6       Headful terminase16\n",
       "2                        2 2e-57    3-cos/HK97           Cos terminase23\n",
       "3                        3 1e-60    Cos/lambda           Cos  terminase3\n",
       "4                        4 3e-65   headful/Sf6       Headful  terminase7\n",
       "5                        5    NA          <NA>          <NA>        <NA>\n",
       "6                        6 2e-57    Cos/lambda           Cos  terminase3\n",
       "  term_ortho_sd term_ortho_ld            cov_category\n",
       "1          <NA>          <NA>           even_coverage\n",
       "2          <NA>          <NA> multiple_coverage_peaks\n",
       "3           Cos    Cos/lambda     short_internal_peak\n",
       "4          <NA>          <NA> multiple_coverage_peaks\n",
       "5          <NA>          <NA>           even_coverage\n",
       "6           Cos    Cos/lambda                    <NA>\n"
      ]
     },
     "metadata": {},
     "output_type": "display_data"
    }
   ],
   "source": [
    "%%R\n",
    "all<-merge(genome_info, cluster_table, by=\"phage\", all.x=T, all.y=T)\n",
    "all<-merge(all, terminase_info, by=\"phage\", all.x=T, all.y=T)\n",
    "head(all)"
   ]
  },
  {
   "cell_type": "code",
   "execution_count": 19,
   "metadata": {
    "collapsed": false
   },
   "outputs": [
    {
     "data": {
      "text/plain": [
       "     phage num_hosts min_host_similarity kk_grp        family          order\n",
       "1 1.003.O.         2            76.77842      1  Podoviridae   Caudovirales \n",
       "2 1.004.O.         5            99.62443     14   Myoviridae   Caudovirales \n",
       "3 1.005.O.         1           100.00000      7  Podoviridae   Caudovirales \n",
       "4 1.007.O.         1           100.00000      1   Myoviridae   Caudovirales \n",
       "5 1.008.O.        36            73.57059     15    Tectivirus   Tectiviridae\n",
       "6 1.009.O.         1           100.00000      7  Podoviridae   Caudovirales \n",
       "  nucleotide_level_divs illumina_genome_len bray_clusters_eps0.9\n",
       "1                     1               41891                    1\n",
       "2                     2               42511                    2\n",
       "3                     3               50301                    3\n",
       "4                     4               49244                    4\n",
       "5                     5               10579                    5\n",
       "6                     6               44443                    0\n",
       "  euclidean_clusters_eps15  eval term_blast_ld term_blast_sd  term_clust\n",
       "1                        1 6e-63   headful/Sf6       Headful terminase16\n",
       "2                        2 2e-57    3-cos/HK97           Cos terminase23\n",
       "3                        3 1e-60    Cos/lambda           Cos  terminase3\n",
       "4                        4 3e-65   headful/Sf6       Headful  terminase7\n",
       "5                        5    NA          <NA>          <NA>        <NA>\n",
       "6                        6 2e-57    Cos/lambda           Cos  terminase3\n",
       "  term_ortho_sd term_ortho_ld            cov_category new_groups_sept\n",
       "1          <NA>          <NA>           even_coverage               1\n",
       "2          <NA>          <NA> multiple_coverage_peaks           12/14\n",
       "3           Cos    Cos/lambda     short_internal_peak               7\n",
       "4          <NA>          <NA> multiple_coverage_peaks              1a\n",
       "5          <NA>          <NA>           even_coverage              15\n",
       "6           Cos    Cos/lambda                    <NA>               7\n"
      ]
     },
     "metadata": {},
     "output_type": "display_data"
    }
   ],
   "source": [
    "%%R\n",
    "new_groups_sept<-read.table(bhc, sep=\"\\t\", header=TRUE)\n",
    "colnames(new_groups_sept)<-c(\"phage\",\"new_groups_sept\")\n",
    "all<-merge(all, new_groups_sept, by=\"phage\", all.x=T, all.y=T)\n",
    "head(all)"
   ]
  },
  {
   "cell_type": "code",
   "execution_count": 20,
   "metadata": {
    "collapsed": true
   },
   "outputs": [],
   "source": [
    "%%R\n",
    "write.table(all, \"./data/all_info.txt\", sep=\"\\t\",row.names=F, quote=F)"
   ]
  },
  {
   "cell_type": "code",
   "execution_count": 57,
   "metadata": {
    "collapsed": false
   },
   "outputs": [
    {
     "data": {
      "text/plain": [
       "[1] 41\n"
      ]
     },
     "metadata": {},
     "output_type": "display_data"
    }
   ],
   "source": [
    "%%R\n",
    "max(na.omit(all$bray_clusters_eps0.9))"
   ]
  },
  {
   "cell_type": "code",
   "execution_count": null,
   "metadata": {
    "collapsed": true
   },
   "outputs": [],
   "source": []
  }
 ],
 "metadata": {
  "kernelspec": {
   "display_name": "Python 2",
   "language": "python",
   "name": "python2"
  },
  "language_info": {
   "codemirror_mode": {
    "name": "ipython",
    "version": 2
   },
   "file_extension": ".py",
   "mimetype": "text/x-python",
   "name": "python",
   "nbconvert_exporter": "python",
   "pygments_lexer": "ipython2",
   "version": "2.7.11"
  }
 },
 "nbformat": 4,
 "nbformat_minor": 0
}
