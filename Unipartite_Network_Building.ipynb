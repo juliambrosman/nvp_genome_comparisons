{
 "cells": [
  {
   "cell_type": "code",
   "execution_count": 1,
   "metadata": {
    "collapsed": true
   },
   "outputs": [],
   "source": [
    "%load_ext rpy2.ipython"
   ]
  },
  {
   "cell_type": "code",
   "execution_count": 8,
   "metadata": {
    "collapsed": false
   },
   "outputs": [],
   "source": [
    "%%R\n",
    "library(dplyr)\n",
    "library(magrittr)\n",
    "library(ggplot2)\n",
    "library(tnet)"
   ]
  },
  {
   "cell_type": "code",
   "execution_count": 42,
   "metadata": {
    "collapsed": false
   },
   "outputs": [
    {
     "data": {
      "text/plain": [
       "Source: local data frame [6 x 3]\n",
       "Groups: protein_cluster [2]\n",
       "\n",
       "  protein_cluster    dbgrp count\n",
       "           (fctr)   (fctr) (int)\n",
       "1         pvp1000       13    24\n",
       "2         pvp1000       15     8\n",
       "3         pvp1000       19    34\n",
       "4         pvp1000       27     6\n",
       "5         pvp1000        6    20\n",
       "6         pvp1001 1.029.O.     1\n"
      ]
     },
     "metadata": {},
     "output_type": "display_data"
    }
   ],
   "source": [
    "%%R\n",
    "data<-read.table(\"./data/all_info.txt\", sep=\"\\t\", header=T)\n",
    "#str(data)\n",
    "\n",
    "data$bray_clusters_eps0.9[is.na(data$bray_clusters_eps0.9)]<-0\n",
    "data$bray_clusters_eps0.9[data$bray_clusters_eps0.9==0]<-as.character(data$phage[data$bray_clusters_eps0.9==0])\n",
    "#data$phage[data$bray_clusters_eps0.9==0]%>%print\n",
    "#as.character(data$phage[data$bray_clsuters_eps0.9==0])\n",
    "data$bray_clusters_eps0.9%>%as.character%>%as.factor->data$bray_clusters_eps0.9\n",
    "\n",
    "adj<-read.table(\"./data/phagevphage_orthomcl.adjacency.txt\", header=TRUE, sep=\"\\t\")\n",
    "head(adj)\n",
    "\n",
    "adj$dbgrp<-data$bray_clusters_eps0.9[match(adj$organism, data$phage)]\n",
    "adj%>%group_by(protein_cluster, dbgrp)%>%summarise(count=n())->grp_pclusts\n",
    "print(grp_pclusts%>%head)\n",
    "write.table(grp_pclusts[,c(1,2)], file=\"./data/bray_eps0.9_group_protclust_adj.txt\", quote=FALSE, row.names=FALSE, sep=\"\\t\")"
   ]
  },
  {
   "cell_type": "code",
   "execution_count": 43,
   "metadata": {
    "collapsed": true
   },
   "outputs": [],
   "source": [
    "import pandas as pd\n",
    "import numpy as np\n",
    "from pandas import DataFrame, Series\n",
    "\n",
    "def create_mat_from_edgetable(edgetable, output, ind_cat, col_cat):\n",
    "    adj=pd.read_table(edgetable).drop_duplicates()\n",
    "    adj['pos']=1\n",
    "    mat=adj.pivot_table(values='pos', index=ind_cat, columns=col_cat)\n",
    "    mat=mat.fillna(0)\n",
    "    mat.applymap(lambda x: x.astype(int)).to_csv(output,sep=\"\\t\")\n",
    "    \n",
    "create_mat_from_edgetable(\"./data/bray_eps0.9_group_protclust_adj.txt\",\"./data/bray_eps0.9_group_protclust_mat.txt\", \"dbgrp\",\"protein_cluster\")"
   ]
  },
  {
   "cell_type": "code",
   "execution_count": 55,
   "metadata": {
    "collapsed": false
   },
   "outputs": [],
   "source": [
    "%%R \n",
    "mat=read.table(\"./data/bray_eps0.9_group_protclust_mat.txt\", sep=\"\\t\", header=TRUE)\n",
    "\n",
    "\n",
    "rownames(mat)<-as.factor(mat$dbgrp)\n",
    "mat$dbgrp<-NULL\n",
    "\n",
    "\n",
    "\n",
    "net<-as.tnet(mat, type=\"binary two-mode tnet\")\n",
    "proj1<-projecting_tm(net, method=\"sum\")\n",
    "\n",
    "proj1$i%>%unique%>%length\n",
    "\n",
    "\n",
    "groupnames<-as.character(row.names(mat1))\n",
    "number<-as.character(c(1:length(groupnames)))\n",
    "groupid<-data.frame(cbind(groupnames, number))\n",
    "\n",
    "proj1$groupi<-groupid$groupnames[match(proj1$i, groupid$number)]\n",
    "proj1$groupj<-groupid$groupnames[match(proj1$j, groupid$number)]\n",
    "\n",
    "proj1\n",
    "write.table(proj1[,c(4,5,3)], \"./data/bray_groups_weighted_one_mode.txt\", sep=\"\\t\", quote=FALSE, row.names=FALSE, col.names=TRUE)"
   ]
  },
  {
   "cell_type": "code",
   "execution_count": 49,
   "metadata": {
    "collapsed": false
   },
   "outputs": [],
   "source": [
    "def dereplicate_edgelist(input_file, outfile):\n",
    "    pairs=[]\n",
    "    out=open(outfile,\"w\")\n",
    "    with open(input_file) as infile:\n",
    "        for l in infile:\n",
    "            i=l.split(\"\\t\")[0]\n",
    "            j=l.split(\"\\t\")[1]\n",
    "            if (i,j) not in pairs and (j,i) not in pairs:\n",
    "                pairs.append((i,j))\n",
    "                out.write(l)\n",
    "    out.close()\n",
    "\n",
    "dereplicate_edgelist(\"./data/bray_groups_weighted_one_mode.txt\", \"./data/bray_groups_weighted_one_mode_derep.txt\")"
   ]
  },
  {
   "cell_type": "code",
   "execution_count": 50,
   "metadata": {
    "collapsed": true
   },
   "outputs": [],
   "source": [
    "create_mat_from_edgetable(\"./data/phagevphage_orthomcl.adjacency.txt\",\"./data/phagevphage_orthomcl.matrix.txt\", \"organism\", \"protein_cluster\")"
   ]
  },
  {
   "cell_type": "code",
   "execution_count": 56,
   "metadata": {
    "collapsed": false
   },
   "outputs": [],
   "source": [
    "%%R \n",
    "mat=read.table(\"./data/phagevphage_orthomcl.matrix.txt\", sep=\"\\t\", header=TRUE)\n",
    "\n",
    "\n",
    "rownames(mat)<-as.factor(mat$organism)\n",
    "mat$organism<-NULL\n",
    "\n",
    "\n",
    "\n",
    "net<-as.tnet(mat, type=\"binary two-mode tnet\")\n",
    "proj1<-projecting_tm(net, method=\"sum\")\n",
    "\n",
    "proj1$i%>%unique%>%length\n",
    "\n",
    "\n",
    "groupnames<-as.character(row.names(mat))\n",
    "number<-as.character(c(1:length(groupnames)))\n",
    "groupid<-data.frame(cbind(groupnames, number))\n",
    "\n",
    "proj1$groupi<-groupid$groupnames[match(proj1$i, groupid$number)]\n",
    "proj1$groupj<-groupid$groupnames[match(proj1$j, groupid$number)]\n",
    "\n",
    "proj1\n",
    "write.table(proj1[,c(4,5,3)], \"./data/indiv_phages_weighted_one_mode.txt\", sep=\"\\t\", quote=FALSE, row.names=FALSE, col.names=TRUE)"
   ]
  },
  {
   "cell_type": "code",
   "execution_count": 57,
   "metadata": {
    "collapsed": true
   },
   "outputs": [],
   "source": [
    "dereplicate_edgelist(\"./data/indiv_phages_weighted_one_mode.txt\",\"./data/indiv_phages_weighted_one_mode_derep.txt\")"
   ]
  },
  {
   "cell_type": "code",
   "execution_count": null,
   "metadata": {
    "collapsed": true
   },
   "outputs": [],
   "source": []
  }
 ],
 "metadata": {
  "kernelspec": {
   "display_name": "Python 2",
   "language": "python",
   "name": "python2"
  },
  "language_info": {
   "codemirror_mode": {
    "name": "ipython",
    "version": 2
   },
   "file_extension": ".py",
   "mimetype": "text/x-python",
   "name": "python",
   "nbconvert_exporter": "python",
   "pygments_lexer": "ipython2",
   "version": "2.7.11"
  }
 },
 "nbformat": 4,
 "nbformat_minor": 0
}
